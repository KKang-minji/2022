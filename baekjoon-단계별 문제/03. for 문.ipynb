{
 "cells": [
  {
   "cell_type": "markdown",
   "metadata": {},
   "source": [
    "## 1단계: 구구단"
   ]
  },
  {
   "cell_type": "code",
   "execution_count": 16,
   "metadata": {},
   "outputs": [
    {
     "name": "stdout",
     "output_type": "stream",
     "text": [
      "2\n",
      "2 * 1 = 2\n",
      "2 * 2 = 4\n",
      "2 * 3 = 6\n",
      "2 * 4 = 8\n",
      "2 * 5 = 10\n",
      "2 * 6 = 12\n",
      "2 * 7 = 14\n",
      "2 * 8 = 16\n",
      "2 * 9 = 18\n"
     ]
    }
   ],
   "source": [
    "N = int(input())\n",
    "for i in range(1,10):\n",
    "    x = N * i\n",
    "    print(N, '*', i, '=', x)  #부호에 ''"
   ]
  },
  {
   "cell_type": "markdown",
   "metadata": {},
   "source": [
    "## 2단계: A+B -3\n",
    "두 정수 A와 B를 입력받은 다음, A+B를 출력하는 프로그램을 작성하시오."
   ]
  },
  {
   "cell_type": "code",
   "execution_count": 26,
   "metadata": {},
   "outputs": [
    {
     "name": "stdout",
     "output_type": "stream",
     "text": [
      "5\n",
      "1 1\n",
      "2\n",
      "2 3\n",
      "5\n",
      "3 4\n",
      "7\n",
      "9 8\n",
      "17\n",
      "5 2\n",
      "7\n"
     ]
    }
   ],
   "source": [
    "t = int(input())\n",
    "\n",
    "for _ in range(t):\n",
    "    A, B = map(int,input().split())\n",
    "    print(A+B)"
   ]
  },
  {
   "cell_type": "markdown",
   "metadata": {},
   "source": [
    "#### '_' (dummy variable) 사용법\n",
    "1. 인터프리터에서 마지막 값을 저장하고 싶을 때\n",
    "2. 값을 무시하고 싶을 때\n",
    "    <br/><span style=\"color:gray\">ex 1) x, _, y</span>\n",
    "    <br/><span style=\"color:gray\">ex 2) for _ in range(t)</span>\n",
    "    <br/><span style=\"color:gray\">단순히 print하는 반복문의 경우에는 index가 의미가 없으므로 이럴경우 _를 index로 사용할 수 있음\n",
    "</span> \n",
    "3. 변수나 함수 명에 특별한 의미 부여하고 싶을 때\n",
    "    - 폴더\n",
    "    <br/> 폴더 안에 __init__.py 라는 파일이 있으면 그 폴더를 패키지로 만들 수 있음\n",
    "    - 메소드\n",
    "    <br/> 매직 메소드들이거나 맹글링을 위한 메소드\n",
    "    - 속성\n",
    "    <br/> 변수 앞에 '_'를 붙이면 메소드 앞에 '_'를 붙이는 것과 같이 import*에서 제외되는 것이 가능. 단, 직접 접근하면 가능함\n",
    "4. 숫자 또는 문자값의 자릿수 구분을 위한 구분자로 사용할 때\n",
    "    <br/>( '_'를 사용하여 자리 수를 구분하였지만 출력이나 연산시에는 일반 숫자 리터럴과 동일하게 처리됨)\n",
    "\n",
    "    #### <span style=\"color:red\">위에서는 실제로 사용되지 않기때문에 2번으로 사용 됨. </span>"
   ]
  },
  {
   "cell_type": "code",
   "execution_count": null,
   "metadata": {},
   "outputs": [],
   "source": []
  }
 ],
 "metadata": {
  "kernelspec": {
   "display_name": "Python 3",
   "language": "python",
   "name": "python3"
  },
  "language_info": {
   "codemirror_mode": {
    "name": "ipython",
    "version": 3
   },
   "file_extension": ".py",
   "mimetype": "text/x-python",
   "name": "python",
   "nbconvert_exporter": "python",
   "pygments_lexer": "ipython3",
   "version": "3.8.5"
  }
 },
 "nbformat": 4,
 "nbformat_minor": 4
}
