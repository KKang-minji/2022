{
 "cells": [
  {
   "cell_type": "markdown",
   "metadata": {},
   "source": [
    "## 1단계: 팩토리얼\n",
    "0보다 크거나 같은 정수 N이 주어진다. 이때, N!을 출력하는 프로그램을 작성하시오.\n",
    "\n",
    "첫째 줄에 정수 N(0 ≤ N ≤ 12)이 주어진다.\n",
    "\n",
    "첫째 줄에 N!을 출력한다."
   ]
  },
  {
   "cell_type": "markdown",
   "metadata": {},
   "source": [
    "팩토리얼(=계승) \n",
    ": 1부터 지정된 수까지 모든 수의 곱을 의미\n",
    "\n",
    "**팩토리얼 구하는 방법**\n",
    "1. for 반복문 사용\n",
    "2. 재귀함수 사용\n",
    "3. math library 사용"
   ]
  },
  {
   "cell_type": "code",
   "execution_count": 22,
   "metadata": {
    "scrolled": true
   },
   "outputs": [
    {
     "name": "stdout",
     "output_type": "stream",
     "text": [
      "10\n",
      "3628800\n"
     ]
    }
   ],
   "source": [
    "# for문 방법1\n",
    "n = int(input())\n",
    "result = 1\n",
    "for item in range(1, n+1,1):\n",
    "    result *= item\n",
    "print(result)\n"
   ]
  },
  {
   "cell_type": "code",
   "execution_count": 16,
   "metadata": {},
   "outputs": [
    {
     "name": "stdout",
     "output_type": "stream",
     "text": [
      "팩토리얼을 구할 숫자를 입력하세요 : 10\n",
      "3628800\n"
     ]
    }
   ],
   "source": [
    "# for문 방법2 \n",
    "n = int(input(\"팩토리얼을 구할 숫자를 입력하세요 : \")) \n",
    "result = 1 \n",
    "for item in range(1, n+1, 1):\n",
    "    result = result * item \n",
    "print(result)\n",
    "\n"
   ]
  },
  {
   "cell_type": "code",
   "execution_count": 5,
   "metadata": {},
   "outputs": [
    {
     "name": "stdout",
     "output_type": "stream",
     "text": [
      "10\n",
      "3628800\n"
     ]
    }
   ],
   "source": [
    "def my_factorial(n):\n",
    "    if(n > 1):\n",
    "        return n * my_factorial(n-1)\n",
    "    else:\n",
    "        return 1\n",
    "    \n",
    "a = int(input())\n",
    "print(my_factorial(a))"
   ]
  },
  {
   "cell_type": "code",
   "execution_count": 6,
   "metadata": {},
   "outputs": [
    {
     "name": "stdout",
     "output_type": "stream",
     "text": [
      "10\n",
      "3628800\n"
     ]
    }
   ],
   "source": [
    "import math\n",
    "a =int(input())\n",
    "print(math.factorial(a))"
   ]
  }
 ],
 "metadata": {
  "kernelspec": {
   "display_name": "Python 3",
   "language": "python",
   "name": "python3"
  },
  "language_info": {
   "codemirror_mode": {
    "name": "ipython",
    "version": 3
   },
   "file_extension": ".py",
   "mimetype": "text/x-python",
   "name": "python",
   "nbconvert_exporter": "python",
   "pygments_lexer": "ipython3",
   "version": "3.8.5"
  }
 },
 "nbformat": 4,
 "nbformat_minor": 4
}
